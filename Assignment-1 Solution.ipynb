{
 "cells": [
  {
   "cell_type": "markdown",
   "id": "0324ff07",
   "metadata": {},
   "source": [
    "1. In the below elements which of them are values or an expression? eg:- values can be integer or string and expressions will be mathematical operators.\n",
    "*    ------------------------------------------->>>>>>> Expression\n",
    "'hello'-------------------------------------->>>>>>>>   Value\n",
    "-87.8--------------------------------------->>>>>>>>>   Value\n",
    "-          ------------------------------------->>>>>>>>>  Expression\n",
    "/        ------------------------------------->>>>>>>>>  Expression\n",
    "+\t------------------------------------->>>>>>>>>  Expression\n",
    "6        ------------------------------------->>>>>>>>>  Value\n"
   ]
  },
  {
   "cell_type": "markdown",
   "id": "661f965e",
   "metadata": {},
   "source": [
    "2. What is the difference between string and variable?\n",
    "\n",
    "Ans : “string “  is a value which is fixed. While variable is not having fixed value."
   ]
  },
  {
   "cell_type": "markdown",
   "id": "f77a9058",
   "metadata": {},
   "source": [
    "3. Describe three different data types.\n",
    "1.) Integer- A number that has no fractional part that is no digit after decimal point.\n",
    "2.) Float- Float is a set of data type which has decimal point value\n",
    "3.) string- string is data type which has collection of character it is represented in “” for e.g\n",
    "“shashank”\n"
   ]
  },
  {
   "cell_type": "markdown",
   "id": "71290f11",
   "metadata": {},
   "source": [
    "4. What is an expression made up of? What do all expressions do?\n",
    "Expression is made up of values, and mathematical operators.\n",
    "Expression gives the desired output by using mathematical operators. For e.g\n",
    "a=3\n",
    "b=5\n",
    "a+b = 8\n",
    "\n"
   ]
  },
  {
   "cell_type": "markdown",
   "id": "72528d4c",
   "metadata": {},
   "source": [
    "5. This assignment statements, like spam = 10. What is the difference between an expression and a statement?\n",
    "Expression is made up of values, and mathematical operators. while statement is like syntax of the programme.\n"
   ]
  },
  {
   "cell_type": "code",
   "execution_count": 2,
   "id": "5081d6ab",
   "metadata": {},
   "outputs": [
    {
     "data": {
      "text/plain": [
       "23"
      ]
     },
     "execution_count": 2,
     "metadata": {},
     "output_type": "execute_result"
    }
   ],
   "source": [
    "##6. After running the following code, what does the variable bacon contain?\n",
    "bacon = 22\n",
    "bacon + 1\n"
   ]
  },
  {
   "cell_type": "code",
   "execution_count": 3,
   "id": "1443a549",
   "metadata": {},
   "outputs": [
    {
     "data": {
      "text/plain": [
       "'spamspamspam'"
      ]
     },
     "execution_count": 3,
     "metadata": {},
     "output_type": "execute_result"
    }
   ],
   "source": [
    "##7. What should the values of the following two terms be?\n",
    "'spam' + 'spamspam'\n"
   ]
  },
  {
   "cell_type": "code",
   "execution_count": 4,
   "id": "5b3e6ec5",
   "metadata": {},
   "outputs": [
    {
     "data": {
      "text/plain": [
       "'spamspamspam'"
      ]
     },
     "execution_count": 4,
     "metadata": {},
     "output_type": "execute_result"
    }
   ],
   "source": [
    "'spam' * 3"
   ]
  },
  {
   "cell_type": "code",
   "execution_count": null,
   "id": "74446af0",
   "metadata": {},
   "outputs": [],
   "source": [
    "##8. Why is eggs a valid variable name while 100 is invalid?\n",
    "Ans: Because variable can’t be started with integer as it becomes value."
   ]
  },
  {
   "cell_type": "code",
   "execution_count": null,
   "id": "48bf4ec8",
   "metadata": {},
   "outputs": [],
   "source": [
    "##9. What three functions can be used to get the integer, floating-point number, or string version of a value?\n",
    " Int() , float() , str()\n"
   ]
  },
  {
   "cell_type": "code",
   "execution_count": null,
   "id": "a2af3f55",
   "metadata": {},
   "outputs": [],
   "source": [
    "##10. Why does this expression cause an error? How can you fix it?\n",
    "\n",
    "Ans: As 99 is integer we need to type cast it into as string."
   ]
  },
  {
   "cell_type": "code",
   "execution_count": 5,
   "id": "c1397682",
   "metadata": {},
   "outputs": [
    {
     "ename": "TypeError",
     "evalue": "can only concatenate str (not \"int\") to str",
     "output_type": "error",
     "traceback": [
      "\u001b[1;31m---------------------------------------------------------------------------\u001b[0m",
      "\u001b[1;31mTypeError\u001b[0m                                 Traceback (most recent call last)",
      "\u001b[1;32m<ipython-input-5-d24137131a5c>\u001b[0m in \u001b[0;36m<module>\u001b[1;34m\u001b[0m\n\u001b[1;32m----> 1\u001b[1;33m \u001b[1;34m'I have eaten '\u001b[0m \u001b[1;33m+\u001b[0m \u001b[1;36m99\u001b[0m \u001b[1;33m+\u001b[0m \u001b[1;34m' burritos.'\u001b[0m\u001b[1;33m\u001b[0m\u001b[1;33m\u001b[0m\u001b[0m\n\u001b[0m",
      "\u001b[1;31mTypeError\u001b[0m: can only concatenate str (not \"int\") to str"
     ]
    }
   ],
   "source": [
    "'I have eaten ' + 99 + ' burritos.'"
   ]
  },
  {
   "cell_type": "code",
   "execution_count": 6,
   "id": "35611f55",
   "metadata": {},
   "outputs": [
    {
     "data": {
      "text/plain": [
       "'I have eaten 99 burritos.'"
      ]
     },
     "execution_count": 6,
     "metadata": {},
     "output_type": "execute_result"
    }
   ],
   "source": [
    "'I have eaten ' + str(\"99\") + ' burritos.'"
   ]
  },
  {
   "cell_type": "code",
   "execution_count": null,
   "id": "19310c0e",
   "metadata": {},
   "outputs": [],
   "source": []
  }
 ],
 "metadata": {
  "kernelspec": {
   "display_name": "Python 3",
   "language": "python",
   "name": "python3"
  },
  "language_info": {
   "codemirror_mode": {
    "name": "ipython",
    "version": 3
   },
   "file_extension": ".py",
   "mimetype": "text/x-python",
   "name": "python",
   "nbconvert_exporter": "python",
   "pygments_lexer": "ipython3",
   "version": "3.8.8"
  }
 },
 "nbformat": 4,
 "nbformat_minor": 5
}
